{
 "cells": [
  {
   "cell_type": "markdown",
   "metadata": {},
   "source": [
    "# Select interaction method detection in the physical interactions networks\n",
    "\n",
    "It was supposed to be done inside ```r-neat-genetic-interactions-physical-interactions-no-ko-dups``` notebook but ```R``` is retarded"
   ]
  },
  {
   "cell_type": "code",
   "execution_count": 20,
   "metadata": {},
   "outputs": [],
   "source": [
    "import pandas as pd\n",
    "from glob import glob\n",
    "import csv"
   ]
  },
  {
   "cell_type": "code",
   "execution_count": 21,
   "metadata": {},
   "outputs": [],
   "source": [
    "NETWORKS_PATH = './presentation-main-data/filtered_appended_networks/'"
   ]
  },
  {
   "cell_type": "code",
   "execution_count": 22,
   "metadata": {},
   "outputs": [],
   "source": [
    "phys_ntwrks = glob(f\"{NETWORKS_PATH}physical*plain-text*csv\")"
   ]
  },
  {
   "cell_type": "code",
   "execution_count": 23,
   "metadata": {},
   "outputs": [
    {
     "name": "stdout",
     "output_type": "stream",
     "text": [
      "./presentation-main-data/filtered_appended_networks/physical-interactions-plain-text-no-ko-dups-removal-Rattus_norvegicus.csv\n",
      "./presentation-main-data/filtered_appended_networks/physical-interactions-plain-text-no-ko-dups-removal-Caenorhabditis_elegans.csv\n",
      "./presentation-main-data/filtered_appended_networks/physical-interactions-plain-text-no-ko-dups-removal-Mus_musculus.csv\n",
      "./presentation-main-data/filtered_appended_networks/physical-interactions-plain-text-no-ko-dups-removal-Saccharomyces_cerevisiae.csv\n",
      "./presentation-main-data/filtered_appended_networks/physical-interactions-plain-text-no-ko-dups-removal-Drosophila_melanogaster.csv\n",
      "./presentation-main-data/filtered_appended_networks/physical-interactions-plain-text-no-ko-dups-removal-Arabidopsis_thaliana.csv\n",
      "./presentation-main-data/filtered_appended_networks/physical-interactions-plain-text-no-ko-dups-removal-Schizosaccharomyces_pombe.csv\n",
      "./presentation-main-data/filtered_appended_networks/physical-interactions-plain-text-no-ko-dups-removal-Homo_sapiens.csv\n"
     ]
    }
   ],
   "source": [
    "for i in phys_ntwrks:\n",
    "    print(i)\n",
    "    _df = pd.read_csv(i, sep='\\t')\n",
    "    _df[\n",
    "        (_df['INTER_DET_METH'] == 'affinity chromatography technology')\n",
    "    ].to_csv(f\"{i.replace('.csv', '')}_aff.csv\", sep='\\t')\n",
    "    _df[\n",
    "        (_df['INTER_DET_METH'] == 'two hybrid')\n",
    "    ].to_csv(f\"{i.replace('.csv', '')}_hyb.csv\", sep='\\t')"
   ]
  }
 ],
 "metadata": {
  "kernelspec": {
   "display_name": "Python [conda env:prwlr]",
   "language": "python",
   "name": "conda-env-prwlr-py"
  },
  "language_info": {
   "codemirror_mode": {
    "name": "ipython",
    "version": 3
   },
   "file_extension": ".py",
   "mimetype": "text/x-python",
   "name": "python",
   "nbconvert_exporter": "python",
   "pygments_lexer": "ipython3",
   "version": "3.7.3"
  }
 },
 "nbformat": 4,
 "nbformat_minor": 2
}
